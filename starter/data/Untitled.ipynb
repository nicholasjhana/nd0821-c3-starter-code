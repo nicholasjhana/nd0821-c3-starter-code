{
 "cells": [
  {
   "cell_type": "code",
   "execution_count": 11,
   "id": "42ecd22e",
   "metadata": {},
   "outputs": [],
   "source": [
    "import pandas as pd\n",
    "import json"
   ]
  },
  {
   "cell_type": "code",
   "execution_count": 2,
   "id": "c153ea2d",
   "metadata": {},
   "outputs": [],
   "source": [
    "df = pd.read_csv(\"census_cleaned.csv\")"
   ]
  },
  {
   "cell_type": "code",
   "execution_count": 14,
   "id": "a3482b38",
   "metadata": {},
   "outputs": [
    {
     "data": {
      "text/plain": [
       "[{'age': 52,\n",
       "  'workclass': 'Self-emp-not-inc',\n",
       "  'fnlgt': 209642,\n",
       "  'education': 'HS-grad',\n",
       "  'education-num': 9,\n",
       "  'marital-status': 'Married-civ-spouse',\n",
       "  'occupation': 'Exec-managerial',\n",
       "  'relationship': 'Husband',\n",
       "  'race': 'White',\n",
       "  'sex': 'Male',\n",
       "  'capital-gain': 0,\n",
       "  'capital-loss': 0,\n",
       "  'hours-per-week': 45,\n",
       "  'native-country': 'United-States',\n",
       "  'salary': '>50K'},\n",
       " {'age': 31,\n",
       "  'workclass': 'Private',\n",
       "  'fnlgt': 45781,\n",
       "  'education': 'Masters',\n",
       "  'education-num': 14,\n",
       "  'marital-status': 'Never-married',\n",
       "  'occupation': 'Prof-specialty',\n",
       "  'relationship': 'Not-in-family',\n",
       "  'race': 'White',\n",
       "  'sex': 'Female',\n",
       "  'capital-gain': 14084,\n",
       "  'capital-loss': 0,\n",
       "  'hours-per-week': 50,\n",
       "  'native-country': 'United-States',\n",
       "  'salary': '>50K'},\n",
       " {'age': 42,\n",
       "  'workclass': 'Private',\n",
       "  'fnlgt': 159449,\n",
       "  'education': 'Bachelors',\n",
       "  'education-num': 13,\n",
       "  'marital-status': 'Married-civ-spouse',\n",
       "  'occupation': 'Exec-managerial',\n",
       "  'relationship': 'Husband',\n",
       "  'race': 'White',\n",
       "  'sex': 'Male',\n",
       "  'capital-gain': 5178,\n",
       "  'capital-loss': 0,\n",
       "  'hours-per-week': 40,\n",
       "  'native-country': 'United-States',\n",
       "  'salary': '>50K'},\n",
       " {'age': 37,\n",
       "  'workclass': 'Private',\n",
       "  'fnlgt': 280464,\n",
       "  'education': 'Some-college',\n",
       "  'education-num': 10,\n",
       "  'marital-status': 'Married-civ-spouse',\n",
       "  'occupation': 'Exec-managerial',\n",
       "  'relationship': 'Husband',\n",
       "  'race': 'Black',\n",
       "  'sex': 'Male',\n",
       "  'capital-gain': 0,\n",
       "  'capital-loss': 0,\n",
       "  'hours-per-week': 80,\n",
       "  'native-country': 'United-States',\n",
       "  'salary': '>50K'},\n",
       " {'age': 30,\n",
       "  'workclass': 'State-gov',\n",
       "  'fnlgt': 141297,\n",
       "  'education': 'Bachelors',\n",
       "  'education-num': 13,\n",
       "  'marital-status': 'Married-civ-spouse',\n",
       "  'occupation': 'Prof-specialty',\n",
       "  'relationship': 'Husband',\n",
       "  'race': 'Asian-Pac-Islander',\n",
       "  'sex': 'Male',\n",
       "  'capital-gain': 0,\n",
       "  'capital-loss': 0,\n",
       "  'hours-per-week': 40,\n",
       "  'native-country': 'India',\n",
       "  'salary': '>50K'}]"
      ]
     },
     "execution_count": 14,
     "metadata": {},
     "output_type": "execute_result"
    }
   ],
   "source": [
    "json.loads(df[df[\"salary\"] == '>50K'].head().to_json(orient='records'))"
   ]
  },
  {
   "cell_type": "code",
   "execution_count": null,
   "id": "00871a61",
   "metadata": {},
   "outputs": [],
   "source": []
  }
 ],
 "metadata": {
  "kernelspec": {
   "display_name": "Python 3",
   "language": "python",
   "name": "python3"
  },
  "language_info": {
   "codemirror_mode": {
    "name": "ipython",
    "version": 3
   },
   "file_extension": ".py",
   "mimetype": "text/x-python",
   "name": "python",
   "nbconvert_exporter": "python",
   "pygments_lexer": "ipython3",
   "version": "3.8.12"
  }
 },
 "nbformat": 4,
 "nbformat_minor": 5
}
